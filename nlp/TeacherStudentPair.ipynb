{
  "nbformat": 4,
  "nbformat_minor": 0,
  "metadata": {
    "colab": {
      "name": "TeacherStudentPair.ipynb",
      "provenance": []
    },
    "kernelspec": {
      "name": "python3",
      "display_name": "Python 3"
    }
  },
  "cells": [
    {
      "cell_type": "code",
      "metadata": {
        "id": "I2t54N4S-E0p",
        "outputId": "e46dc266-ed21-44d8-a97a-a5b47e1e2654",
        "colab": {
          "base_uri": "https://localhost:8080/",
          "height": 225
        }
      },
      "source": [
        "!pip install flask-ngrok"
      ],
      "execution_count": 2,
      "outputs": [
        {
          "output_type": "stream",
          "text": [
            "Requirement already satisfied: flask-ngrok in /usr/local/lib/python3.6/dist-packages (0.0.25)\n",
            "Requirement already satisfied: requests in /usr/local/lib/python3.6/dist-packages (from flask-ngrok) (2.23.0)\n",
            "Requirement already satisfied: Flask>=0.8 in /usr/local/lib/python3.6/dist-packages (from flask-ngrok) (1.1.2)\n",
            "Requirement already satisfied: certifi>=2017.4.17 in /usr/local/lib/python3.6/dist-packages (from requests->flask-ngrok) (2020.6.20)\n",
            "Requirement already satisfied: idna<3,>=2.5 in /usr/local/lib/python3.6/dist-packages (from requests->flask-ngrok) (2.10)\n",
            "Requirement already satisfied: urllib3!=1.25.0,!=1.25.1,<1.26,>=1.21.1 in /usr/local/lib/python3.6/dist-packages (from requests->flask-ngrok) (1.24.3)\n",
            "Requirement already satisfied: chardet<4,>=3.0.2 in /usr/local/lib/python3.6/dist-packages (from requests->flask-ngrok) (3.0.4)\n",
            "Requirement already satisfied: click>=5.1 in /usr/local/lib/python3.6/dist-packages (from Flask>=0.8->flask-ngrok) (7.1.2)\n",
            "Requirement already satisfied: Jinja2>=2.10.1 in /usr/local/lib/python3.6/dist-packages (from Flask>=0.8->flask-ngrok) (2.11.2)\n",
            "Requirement already satisfied: Werkzeug>=0.15 in /usr/local/lib/python3.6/dist-packages (from Flask>=0.8->flask-ngrok) (1.0.1)\n",
            "Requirement already satisfied: itsdangerous>=0.24 in /usr/local/lib/python3.6/dist-packages (from Flask>=0.8->flask-ngrok) (1.1.0)\n",
            "Requirement already satisfied: MarkupSafe>=0.23 in /usr/local/lib/python3.6/dist-packages (from Jinja2>=2.10.1->Flask>=0.8->flask-ngrok) (1.1.1)\n"
          ],
          "name": "stdout"
        }
      ]
    },
    {
      "cell_type": "code",
      "metadata": {
        "id": "KxGKJo9C1ge1"
      },
      "source": [
        "import spacy\n",
        "from sklearn.metrics.pairwise import cosine_similarity\n",
        "import numpy as np\n",
        "from spacy.lang.en import English\n",
        "from spacy.lang.en.stop_words import STOP_WORDS\n",
        "\n",
        "eng=English()\n",
        "nlp = spacy.load(\"en_core_web_sm\")"
      ],
      "execution_count": 3,
      "outputs": []
    },
    {
      "cell_type": "code",
      "metadata": {
        "id": "LlhCBf_f5Hts"
      },
      "source": [
        "def remove_stopwords(text):\n",
        "  txt=eng(text)\n",
        "  token_list=[]\n",
        "  txt_nosw=\"\"\n",
        "  for token in txt:\n",
        "    token_list.append(token)\n",
        "  for token in token_list:\n",
        "    if token.is_stop == False:\n",
        "      txt_nosw=txt_nosw+\" \"+str(token)\n",
        "  return txt_nosw.strip()\n",
        "\n",
        "def get_embedding(text):\n",
        "  doc = nlp(remove_stopwords(text))\n",
        "  return doc.vector.reshape(-1,96)\n",
        "\n",
        "def get_cosine_similarity(vect1, vect2):\n",
        "  return cosine_similarity(vect1, vect2)[0][0]"
      ],
      "execution_count": 4,
      "outputs": []
    },
    {
      "cell_type": "code",
      "metadata": {
        "id": "i6wWo1mLUuAy",
        "outputId": "29069b42-10f8-42cb-c684-4de3c0319183",
        "colab": {
          "base_uri": "https://localhost:8080/",
          "height": 1000
        }
      },
      "source": [
        "from flask import Flask, jsonify, request\n",
        "from flask_ngrok import run_with_ngrok\n",
        "app = Flask(__name__)\n",
        "run_with_ngrok(app)\n",
        "\n",
        "@app.route(\"/\", methods=[\"GET\",\"POST\"])\n",
        "def home():\n",
        "  data = request.json\n",
        "  teacher_list = data[\"teachers\"]\n",
        "  student_desc = data[\"student\"]\n",
        "  student_desc_vector = get_embedding(student_desc)\n",
        "  teacher_score_list = []\n",
        "  for teacher in teacher_list:\n",
        "    teacher_desc_vector = get_embedding(teacher[\"desc\"])\n",
        "    similarity = int(get_cosine_similarity(teacher_desc_vector, student_desc_vector)*100)\n",
        "    cur_dict = {\n",
        "        \"id\":teacher[\"id\"],\n",
        "        \"score\":similarity\n",
        "    }\n",
        "    teacher_score_list.append(cur_dict)\n",
        "  teacher_score_list = sorted(teacher_score_list, key= lambda i: i['score'], reverse=True)\n",
        "  if(len(teacher_score_list)>3):\n",
        "    teacher_score_list = teacher_score_list[:3]\n",
        "  print(teacher_score_list)\n",
        "  return jsonify({\"teachers\": teacher_score_list})\n",
        "\n",
        "app.run()"
      ],
      "execution_count": null,
      "outputs": [
        {
          "output_type": "stream",
          "text": [
            " * Serving Flask app \"__main__\" (lazy loading)\n",
            " * Environment: production\n",
            "\u001b[31m   WARNING: This is a development server. Do not use it in a production deployment.\u001b[0m\n",
            "\u001b[2m   Use a production WSGI server instead.\u001b[0m\n",
            " * Debug mode: off\n"
          ],
          "name": "stdout"
        },
        {
          "output_type": "stream",
          "text": [
            " * Running on http://127.0.0.1:5000/ (Press CTRL+C to quit)\n"
          ],
          "name": "stderr"
        },
        {
          "output_type": "stream",
          "text": [
            " * Running on http://ee1f2521e32f.ngrok.io\n",
            " * Traffic stats available on http://127.0.0.1:4040\n"
          ],
          "name": "stdout"
        },
        {
          "output_type": "stream",
          "text": [
            "127.0.0.1 - - [10/Oct/2020 14:26:19] \"\u001b[37mPOST / HTTP/1.1\u001b[0m\" 200 -\n"
          ],
          "name": "stderr"
        },
        {
          "output_type": "stream",
          "text": [
            "[{'id': 'id1', 'score': 90}, {'id': 'id3', 'score': 83}, {'id': 'id2', 'score': 76}]\n"
          ],
          "name": "stdout"
        },
        {
          "output_type": "stream",
          "text": [
            "[2020-10-10 14:26:34,766] ERROR in app: Exception on / [GET]\n",
            "Traceback (most recent call last):\n",
            "  File \"/usr/local/lib/python3.6/dist-packages/flask/app.py\", line 2447, in wsgi_app\n",
            "    response = self.full_dispatch_request()\n",
            "  File \"/usr/local/lib/python3.6/dist-packages/flask/app.py\", line 1952, in full_dispatch_request\n",
            "    rv = self.handle_user_exception(e)\n",
            "  File \"/usr/local/lib/python3.6/dist-packages/flask/app.py\", line 1821, in handle_user_exception\n",
            "    reraise(exc_type, exc_value, tb)\n",
            "  File \"/usr/local/lib/python3.6/dist-packages/flask/_compat.py\", line 39, in reraise\n",
            "    raise value\n",
            "  File \"/usr/local/lib/python3.6/dist-packages/flask/app.py\", line 1950, in full_dispatch_request\n",
            "    rv = self.dispatch_request()\n",
            "  File \"/usr/local/lib/python3.6/dist-packages/flask/app.py\", line 1936, in dispatch_request\n",
            "    return self.view_functions[rule.endpoint](**req.view_args)\n",
            "  File \"<ipython-input-6-bb134c6dcd27>\", line 9, in home\n",
            "    teacher_list = data[\"teachers\"]\n",
            "TypeError: 'NoneType' object is not subscriptable\n",
            "127.0.0.1 - - [10/Oct/2020 14:26:34] \"\u001b[35m\u001b[1mGET / HTTP/1.1\u001b[0m\" 500 -\n",
            "127.0.0.1 - - [10/Oct/2020 14:27:23] \"\u001b[37mPOST / HTTP/1.1\u001b[0m\" 200 -\n"
          ],
          "name": "stderr"
        },
        {
          "output_type": "stream",
          "text": [
            "[{'id': '5f8091563f94046ffc8a2564', 'score': 99}, {'id': '5f809228514d016c98c919c9', 'score': 99}, {'id': '5f817b6a10436d73f023fff6', 'score': 99}]\n"
          ],
          "name": "stdout"
        },
        {
          "output_type": "stream",
          "text": [
            "127.0.0.1 - - [10/Oct/2020 14:28:07] \"\u001b[37mPOST / HTTP/1.1\u001b[0m\" 200 -\n"
          ],
          "name": "stderr"
        },
        {
          "output_type": "stream",
          "text": [
            "[{'id': 'id1', 'score': 90}, {'id': 'id3', 'score': 83}, {'id': 'id2', 'score': 76}]\n"
          ],
          "name": "stdout"
        },
        {
          "output_type": "stream",
          "text": [
            "127.0.0.1 - - [10/Oct/2020 14:31:58] \"\u001b[37mPOST / HTTP/1.1\u001b[0m\" 200 -\n"
          ],
          "name": "stderr"
        },
        {
          "output_type": "stream",
          "text": [
            "[{'id': 'id1', 'score': 90}, {'id': 'id3', 'score': 83}, {'id': 'id2', 'score': 76}]\n"
          ],
          "name": "stdout"
        },
        {
          "output_type": "stream",
          "text": [
            "127.0.0.1 - - [10/Oct/2020 14:33:30] \"\u001b[37mPOST / HTTP/1.1\u001b[0m\" 200 -\n"
          ],
          "name": "stderr"
        },
        {
          "output_type": "stream",
          "text": [
            "[{'id': '5f8091563f94046ffc8a2564', 'score': 99}, {'id': '5f809228514d016c98c919c9', 'score': 99}, {'id': '5f817b6a10436d73f023fff6', 'score': 99}]\n"
          ],
          "name": "stdout"
        },
        {
          "output_type": "stream",
          "text": [
            "127.0.0.1 - - [10/Oct/2020 14:40:21] \"\u001b[37mPOST / HTTP/1.1\u001b[0m\" 200 -\n"
          ],
          "name": "stderr"
        },
        {
          "output_type": "stream",
          "text": [
            "[{'id': '5f8091563f94046ffc8a2564', 'score': 99}, {'id': '5f809228514d016c98c919c9', 'score': 99}, {'id': '5f817b6a10436d73f023fff6', 'score': 99}]\n"
          ],
          "name": "stdout"
        },
        {
          "output_type": "stream",
          "text": [
            "127.0.0.1 - - [10/Oct/2020 14:41:13] \"\u001b[37mPOST / HTTP/1.1\u001b[0m\" 200 -\n"
          ],
          "name": "stderr"
        },
        {
          "output_type": "stream",
          "text": [
            "[{'id': '5f8091563f94046ffc8a2564', 'score': 99}, {'id': '5f809228514d016c98c919c9', 'score': 99}, {'id': '5f817b6a10436d73f023fff6', 'score': 99}]\n"
          ],
          "name": "stdout"
        },
        {
          "output_type": "stream",
          "text": [
            "127.0.0.1 - - [10/Oct/2020 15:04:35] \"\u001b[37mPOST / HTTP/1.1\u001b[0m\" 200 -\n"
          ],
          "name": "stderr"
        },
        {
          "output_type": "stream",
          "text": [
            "[{'id': 'id1', 'score': 90}, {'id': 'id3', 'score': 83}, {'id': 'id2', 'score': 76}]\n"
          ],
          "name": "stdout"
        },
        {
          "output_type": "stream",
          "text": [
            "127.0.0.1 - - [10/Oct/2020 15:09:30] \"\u001b[37mPOST / HTTP/1.1\u001b[0m\" 200 -\n"
          ],
          "name": "stderr"
        },
        {
          "output_type": "stream",
          "text": [
            "[{'id': '5f8091563f94046ffc8a2564', 'score': 99}, {'id': '5f809228514d016c98c919c9', 'score': 99}, {'id': '5f817b6a10436d73f023fff6', 'score': 99}]\n"
          ],
          "name": "stdout"
        },
        {
          "output_type": "stream",
          "text": [
            "127.0.0.1 - - [10/Oct/2020 15:11:59] \"\u001b[37mPOST / HTTP/1.1\u001b[0m\" 200 -\n"
          ],
          "name": "stderr"
        },
        {
          "output_type": "stream",
          "text": [
            "[{'id': '5f8091563f94046ffc8a2564', 'score': 99}, {'id': '5f809228514d016c98c919c9', 'score': 99}, {'id': '5f817b6a10436d73f023fff6', 'score': 99}]\n"
          ],
          "name": "stdout"
        },
        {
          "output_type": "stream",
          "text": [
            "127.0.0.1 - - [10/Oct/2020 15:13:40] \"\u001b[37mPOST / HTTP/1.1\u001b[0m\" 200 -\n"
          ],
          "name": "stderr"
        },
        {
          "output_type": "stream",
          "text": [
            "[{'id': '5f8091563f94046ffc8a2564', 'score': 99}, {'id': '5f809228514d016c98c919c9', 'score': 99}, {'id': '5f817b6a10436d73f023fff6', 'score': 99}]\n"
          ],
          "name": "stdout"
        },
        {
          "output_type": "stream",
          "text": [
            "127.0.0.1 - - [10/Oct/2020 15:24:21] \"\u001b[37mPOST / HTTP/1.1\u001b[0m\" 200 -\n"
          ],
          "name": "stderr"
        },
        {
          "output_type": "stream",
          "text": [
            "[{'id': '5f8091563f94046ffc8a2564', 'score': 99}, {'id': '5f809228514d016c98c919c9', 'score': 99}, {'id': '5f817b6a10436d73f023fff6', 'score': 99}]\n"
          ],
          "name": "stdout"
        },
        {
          "output_type": "stream",
          "text": [
            "127.0.0.1 - - [10/Oct/2020 15:32:37] \"\u001b[37mPOST / HTTP/1.1\u001b[0m\" 200 -\n"
          ],
          "name": "stderr"
        },
        {
          "output_type": "stream",
          "text": [
            "[{'id': '5f8091563f94046ffc8a2564', 'score': 99}, {'id': '5f809228514d016c98c919c9', 'score': 99}, {'id': '5f817b6a10436d73f023fff6', 'score': 99}]\n"
          ],
          "name": "stdout"
        },
        {
          "output_type": "stream",
          "text": [
            "127.0.0.1 - - [10/Oct/2020 15:35:43] \"\u001b[37mPOST / HTTP/1.1\u001b[0m\" 200 -\n"
          ],
          "name": "stderr"
        },
        {
          "output_type": "stream",
          "text": [
            "[{'id': '5f8091563f94046ffc8a2564', 'score': 99}, {'id': '5f809228514d016c98c919c9', 'score': 99}, {'id': '5f817b6a10436d73f023fff6', 'score': 99}]\n"
          ],
          "name": "stdout"
        },
        {
          "output_type": "stream",
          "text": [
            "127.0.0.1 - - [10/Oct/2020 15:38:46] \"\u001b[37mPOST / HTTP/1.1\u001b[0m\" 200 -\n"
          ],
          "name": "stderr"
        },
        {
          "output_type": "stream",
          "text": [
            "[{'id': '5f8091563f94046ffc8a2564', 'score': 99}, {'id': '5f809228514d016c98c919c9', 'score': 99}, {'id': '5f817b6a10436d73f023fff6', 'score': 99}]\n"
          ],
          "name": "stdout"
        },
        {
          "output_type": "stream",
          "text": [
            "127.0.0.1 - - [10/Oct/2020 15:43:24] \"\u001b[37mPOST / HTTP/1.1\u001b[0m\" 200 -\n"
          ],
          "name": "stderr"
        },
        {
          "output_type": "stream",
          "text": [
            "[{'id': '5f8091563f94046ffc8a2564', 'score': 99}, {'id': '5f809228514d016c98c919c9', 'score': 99}, {'id': '5f817b6a10436d73f023fff6', 'score': 99}]\n"
          ],
          "name": "stdout"
        },
        {
          "output_type": "stream",
          "text": [
            "127.0.0.1 - - [10/Oct/2020 15:48:00] \"\u001b[37mPOST / HTTP/1.1\u001b[0m\" 200 -\n"
          ],
          "name": "stderr"
        },
        {
          "output_type": "stream",
          "text": [
            "[{'id': '5f8091563f94046ffc8a2564', 'score': 99}, {'id': '5f809228514d016c98c919c9', 'score': 99}, {'id': '5f817b6a10436d73f023fff6', 'score': 99}]\n"
          ],
          "name": "stdout"
        },
        {
          "output_type": "stream",
          "text": [
            "127.0.0.1 - - [10/Oct/2020 15:54:36] \"\u001b[37mPOST / HTTP/1.1\u001b[0m\" 200 -\n"
          ],
          "name": "stderr"
        },
        {
          "output_type": "stream",
          "text": [
            "[{'id': '5f8091563f94046ffc8a2564', 'score': 99}, {'id': '5f809228514d016c98c919c9', 'score': 99}, {'id': '5f817b6a10436d73f023fff6', 'score': 99}]\n"
          ],
          "name": "stdout"
        },
        {
          "output_type": "stream",
          "text": [
            "127.0.0.1 - - [10/Oct/2020 15:56:41] \"\u001b[37mPOST / HTTP/1.1\u001b[0m\" 200 -\n"
          ],
          "name": "stderr"
        },
        {
          "output_type": "stream",
          "text": [
            "[{'id': '5f8091563f94046ffc8a2564', 'score': 99}, {'id': '5f809228514d016c98c919c9', 'score': 99}, {'id': '5f817b6a10436d73f023fff6', 'score': 99}]\n"
          ],
          "name": "stdout"
        },
        {
          "output_type": "stream",
          "text": [
            "127.0.0.1 - - [10/Oct/2020 16:02:13] \"\u001b[37mPOST / HTTP/1.1\u001b[0m\" 200 -\n"
          ],
          "name": "stderr"
        },
        {
          "output_type": "stream",
          "text": [
            "[{'id': '5f8091563f94046ffc8a2564', 'score': 99}, {'id': '5f809228514d016c98c919c9', 'score': 99}, {'id': '5f817b6a10436d73f023fff6', 'score': 99}]\n"
          ],
          "name": "stdout"
        },
        {
          "output_type": "stream",
          "text": [
            "127.0.0.1 - - [10/Oct/2020 16:09:55] \"\u001b[37mPOST / HTTP/1.1\u001b[0m\" 200 -\n"
          ],
          "name": "stderr"
        },
        {
          "output_type": "stream",
          "text": [
            "[{'id': '5f8091563f94046ffc8a2564', 'score': 99}, {'id': '5f809228514d016c98c919c9', 'score': 99}, {'id': '5f817b6a10436d73f023fff6', 'score': 99}]\n"
          ],
          "name": "stdout"
        },
        {
          "output_type": "stream",
          "text": [
            "127.0.0.1 - - [10/Oct/2020 16:13:12] \"\u001b[37mPOST / HTTP/1.1\u001b[0m\" 200 -\n"
          ],
          "name": "stderr"
        },
        {
          "output_type": "stream",
          "text": [
            "[{'id': '5f8091563f94046ffc8a2564', 'score': 99}, {'id': '5f809228514d016c98c919c9', 'score': 99}, {'id': '5f817b6a10436d73f023fff6', 'score': 99}]\n"
          ],
          "name": "stdout"
        },
        {
          "output_type": "stream",
          "text": [
            "127.0.0.1 - - [10/Oct/2020 16:14:07] \"\u001b[37mPOST / HTTP/1.1\u001b[0m\" 200 -\n"
          ],
          "name": "stderr"
        },
        {
          "output_type": "stream",
          "text": [
            "[{'id': '5f8091563f94046ffc8a2564', 'score': 99}, {'id': '5f809228514d016c98c919c9', 'score': 99}, {'id': '5f817b6a10436d73f023fff6', 'score': 99}]\n"
          ],
          "name": "stdout"
        },
        {
          "output_type": "stream",
          "text": [
            "127.0.0.1 - - [10/Oct/2020 16:15:13] \"\u001b[37mPOST / HTTP/1.1\u001b[0m\" 200 -\n"
          ],
          "name": "stderr"
        },
        {
          "output_type": "stream",
          "text": [
            "[{'id': '5f8091563f94046ffc8a2564', 'score': 99}, {'id': '5f809228514d016c98c919c9', 'score': 99}, {'id': '5f817b6a10436d73f023fff6', 'score': 99}]\n"
          ],
          "name": "stdout"
        },
        {
          "output_type": "stream",
          "text": [
            "127.0.0.1 - - [10/Oct/2020 16:15:57] \"\u001b[37mPOST / HTTP/1.1\u001b[0m\" 200 -\n"
          ],
          "name": "stderr"
        },
        {
          "output_type": "stream",
          "text": [
            "[{'id': '5f8091563f94046ffc8a2564', 'score': 99}, {'id': '5f809228514d016c98c919c9', 'score': 99}, {'id': '5f817b6a10436d73f023fff6', 'score': 99}]\n"
          ],
          "name": "stdout"
        },
        {
          "output_type": "stream",
          "text": [
            "127.0.0.1 - - [10/Oct/2020 16:24:16] \"\u001b[37mPOST / HTTP/1.1\u001b[0m\" 200 -\n"
          ],
          "name": "stderr"
        },
        {
          "output_type": "stream",
          "text": [
            "[{'id': '5f8091563f94046ffc8a2564', 'score': 99}, {'id': '5f809228514d016c98c919c9', 'score': 99}, {'id': '5f817b6a10436d73f023fff6', 'score': 99}]\n"
          ],
          "name": "stdout"
        },
        {
          "output_type": "stream",
          "text": [
            "127.0.0.1 - - [10/Oct/2020 16:25:17] \"\u001b[37mPOST / HTTP/1.1\u001b[0m\" 200 -\n"
          ],
          "name": "stderr"
        },
        {
          "output_type": "stream",
          "text": [
            "[{'id': '5f8091563f94046ffc8a2564', 'score': 99}, {'id': '5f809228514d016c98c919c9', 'score': 99}, {'id': '5f817b6a10436d73f023fff6', 'score': 99}]\n"
          ],
          "name": "stdout"
        },
        {
          "output_type": "stream",
          "text": [
            "127.0.0.1 - - [10/Oct/2020 16:26:12] \"\u001b[37mPOST / HTTP/1.1\u001b[0m\" 200 -\n"
          ],
          "name": "stderr"
        },
        {
          "output_type": "stream",
          "text": [
            "[{'id': '5f8091563f94046ffc8a2564', 'score': 99}, {'id': '5f809228514d016c98c919c9', 'score': 99}, {'id': '5f817b6a10436d73f023fff6', 'score': 99}]\n"
          ],
          "name": "stdout"
        },
        {
          "output_type": "stream",
          "text": [
            "127.0.0.1 - - [10/Oct/2020 16:27:54] \"\u001b[37mPOST / HTTP/1.1\u001b[0m\" 200 -\n"
          ],
          "name": "stderr"
        },
        {
          "output_type": "stream",
          "text": [
            "[{'id': '5f8091563f94046ffc8a2564', 'score': 99}, {'id': '5f809228514d016c98c919c9', 'score': 99}, {'id': '5f817b6a10436d73f023fff6', 'score': 99}]\n"
          ],
          "name": "stdout"
        },
        {
          "output_type": "stream",
          "text": [
            "127.0.0.1 - - [10/Oct/2020 16:29:13] \"\u001b[37mPOST / HTTP/1.1\u001b[0m\" 200 -\n"
          ],
          "name": "stderr"
        },
        {
          "output_type": "stream",
          "text": [
            "[{'id': '5f8091563f94046ffc8a2564', 'score': 99}, {'id': '5f809228514d016c98c919c9', 'score': 99}, {'id': '5f817b6a10436d73f023fff6', 'score': 99}]\n"
          ],
          "name": "stdout"
        },
        {
          "output_type": "stream",
          "text": [
            "127.0.0.1 - - [10/Oct/2020 17:22:26] \"\u001b[37mPOST / HTTP/1.1\u001b[0m\" 200 -\n"
          ],
          "name": "stderr"
        },
        {
          "output_type": "stream",
          "text": [
            "[{'id': '5f8091563f94046ffc8a2564', 'score': 99}, {'id': '5f809228514d016c98c919c9', 'score': 99}, {'id': '5f817b6a10436d73f023fff6', 'score': 99}]\n"
          ],
          "name": "stdout"
        },
        {
          "output_type": "stream",
          "text": [
            "127.0.0.1 - - [10/Oct/2020 17:35:58] \"\u001b[37mPOST / HTTP/1.1\u001b[0m\" 200 -\n"
          ],
          "name": "stderr"
        },
        {
          "output_type": "stream",
          "text": [
            "[{'id': 'id1', 'score': 90}, {'id': 'id3', 'score': 83}, {'id': 'id2', 'score': 76}]\n"
          ],
          "name": "stdout"
        },
        {
          "output_type": "stream",
          "text": [
            "127.0.0.1 - - [10/Oct/2020 17:46:16] \"\u001b[37mPOST / HTTP/1.1\u001b[0m\" 200 -\n"
          ],
          "name": "stderr"
        },
        {
          "output_type": "stream",
          "text": [
            "[{'id': '5f8091563f94046ffc8a2564', 'score': 99}, {'id': '5f809228514d016c98c919c9', 'score': 99}, {'id': '5f817b6a10436d73f023fff6', 'score': 99}]\n"
          ],
          "name": "stdout"
        },
        {
          "output_type": "stream",
          "text": [
            "127.0.0.1 - - [10/Oct/2020 18:11:36] \"\u001b[37mPOST / HTTP/1.1\u001b[0m\" 200 -\n"
          ],
          "name": "stderr"
        },
        {
          "output_type": "stream",
          "text": [
            "[{'id': '5f8091563f94046ffc8a2564', 'score': 99}, {'id': '5f809228514d016c98c919c9', 'score': 99}, {'id': '5f817b6a10436d73f023fff6', 'score': 99}]\n"
          ],
          "name": "stdout"
        },
        {
          "output_type": "stream",
          "text": [
            "127.0.0.1 - - [10/Oct/2020 18:17:02] \"\u001b[37mPOST / HTTP/1.1\u001b[0m\" 200 -\n"
          ],
          "name": "stderr"
        },
        {
          "output_type": "stream",
          "text": [
            "[{'id': '5f8091563f94046ffc8a2564', 'score': 99}, {'id': '5f809228514d016c98c919c9', 'score': 99}, {'id': '5f817b6a10436d73f023fff6', 'score': 99}]\n"
          ],
          "name": "stdout"
        },
        {
          "output_type": "stream",
          "text": [
            "127.0.0.1 - - [10/Oct/2020 18:18:27] \"\u001b[37mPOST / HTTP/1.1\u001b[0m\" 200 -\n"
          ],
          "name": "stderr"
        },
        {
          "output_type": "stream",
          "text": [
            "[{'id': '5f8091563f94046ffc8a2564', 'score': 99}, {'id': '5f809228514d016c98c919c9', 'score': 99}, {'id': '5f817b6a10436d73f023fff6', 'score': 99}]\n"
          ],
          "name": "stdout"
        },
        {
          "output_type": "stream",
          "text": [
            "127.0.0.1 - - [10/Oct/2020 18:23:46] \"\u001b[37mPOST / HTTP/1.1\u001b[0m\" 200 -\n"
          ],
          "name": "stderr"
        },
        {
          "output_type": "stream",
          "text": [
            "[{'id': '5f8091563f94046ffc8a2564', 'score': 99}, {'id': '5f809228514d016c98c919c9', 'score': 99}, {'id': '5f817b6a10436d73f023fff6', 'score': 99}]\n"
          ],
          "name": "stdout"
        }
      ]
    },
    {
      "cell_type": "code",
      "metadata": {
        "id": "GPgyygdtU8QN"
      },
      "source": [
        "data =  {\n",
        "        \"teachers\":[\n",
        "                      {\n",
        "                          \"id\":\"id1\",\n",
        "                          \"desc\":\"Well.. I’m a fun loving and happy -go- lucky girl. I live my life as it comes. I’m not an emotional person. But little sensitive by heart. I love making new friends. Didnt find any soulmate yet. Writing stories and Photo Editing are my favorite pastime hobbies. I’m a very good listener. You can speak for hours, I never show any kind of irritation on my face. If I feel the content you’re speaking is uncomfortable, I smartly change the topic and let you into another conversation. A foodie and a verbose..!! I believe that “when our present is good.. Why to think of past and future..” Currently I’m working on 3 love stories under Fanfiction genre which were being published on Wattpad. Basically I’m from Joint family. So, I very well know the value of relations…!!\"\n",
        "                      },\n",
        "                      {\n",
        "                          \"id\":\"id2\",\n",
        "                          \"desc\":\"I just love to be happy in any kind of situation, it is so because I love my decisions. Afterwards whatever the consequences always ready to face them without any regrets. To achieve my targets I always stick to my words if I am not then my words are nothing more than lies to me. I am a person who don't believe in sedulous but in zeal. I have an attitude but not ego as i am ready to bowing down where I think is needed. I feel blessed that I know how to take care of relationships whether they are, with my family members , friends or even with a stranger. love to do things in a planned manner and pretty obsessive about my actions and never expect anything from others.\",\n",
        "                      },\n",
        "                      {\n",
        "                          \"id\":\"id3\",\n",
        "                          \"desc\":\"100 words is a lot to describe me. There is not much too me except that I am an overthinker who overthinks too much. I second-guess myself a lot. And I can make people smile really easily but can’t make myself smile. I sometimes ask too many questions and sometimes I say the deepest things without meaning to. Sometimes I get lost in a world of imagination. I am really understanding and give too many chances to people and also trust people really easily\"\n",
        "                      },\n",
        "                      {\n",
        "                          \"id\":\"id4\",\n",
        "                          \"desc\":\"Curious, strange, fat, of short stature, having red hair, talkative, boring, sometimes silly, self-reliant, simple-minded; loving, lazy, loving to travel, democratic, passive, heterosexual, well-educated, tired of life, abnormal, depressive; having a bad style in clothes, permissive, touchy, annoying, responsible, suspicious, unwelcome, unwanted, sound, behaving loud, thinking, unhurried, engaged in language learning, having dark eyes, unforgettable, always guilty on every matter, crazy a little bit, loving animals, single, lonely, inattentive, good student, good citizen, equitable, hating manipulations, tender, having a pretty voice, meticulous, a good partner, loving good literature, always sleepy, week, unperfect, timid, addictive, frustrating, ununderstandable, badly cooking, TV-hater,\"\n",
        "                      }\n",
        "                    ],    \n",
        "        \"student\":\"I am both simple and complex. I am like everyone but uniquely me. Beauty captivates me and I see it everywhere. I love people and cherish my time alone. I am good at many things and great at none. I love my home and have a constant urge to travel.I am both very practical and very creative. I am friendly with many people but friends with few. Those I love, I love fiercely.\"\n",
        "        }\n",
        "        "
      ],
      "execution_count": null,
      "outputs": []
    }
  ]
}